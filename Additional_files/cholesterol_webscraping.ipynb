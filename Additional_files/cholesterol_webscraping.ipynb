{
  "cells": [
    {
      "cell_type": "code",
      "execution_count": null,
      "metadata": {
        "id": "JKbTkAK3BsiR"
      },
      "outputs": [],
      "source": [
        "import json\n",
        "import requests\n",
        "from bs4 import BeautifulSoup as bts\n",
        "import bs4\n",
        "import pandas as pd\n",
        "import requests\n",
        "import time\n",
        "import numpy as np\n",
        "import pymongo\n",
        "import certifi"
      ]
    },
    {
      "cell_type": "code",
      "execution_count": null,
      "metadata": {
        "id": "NnNghQakBsiV"
      },
      "outputs": [],
      "source": [
        "def getAndParseURL(url):\n",
        "    result = requests.get(url,headers={\"User-Agent\":\"Mozilla/5.0\"})\n",
        "    soup = bts(result.text, 'html.parser')\n",
        "    return soup"
      ]
    },
    {
      "cell_type": "code",
      "execution_count": null,
      "metadata": {
        "id": "9XEA5qp5BsiW"
      },
      "outputs": [],
      "source": [
        "def harvest_recipes(recipes, result):\n",
        "    for recipelink in recipes:\n",
        "        html = getAndParseURL(recipelink)\n",
        "               \n",
        "        #FOOD NAMES\n",
        "        food = html.find('div', class_= 'headline-wrapper')\n",
        "        if food is None:\n",
        "            continue\n",
        "        \n",
        "        food_name = food.text.strip()\n",
        "        \n",
        "        \n",
        "        #COUNT of RATINGS\n",
        "        rate = html.find('span', class_ = 'ugc-ratings-item elementFont__details')\n",
        "        if rate is None:\n",
        "            continue\n",
        "        \n",
        "        rating = rate.text.strip()\n",
        "            \n",
        "        \n",
        "        #COUNT of REVIEWS\n",
        "        review = html.find('a', class_ = 'ugc-ratings-link elementFont__detailsLink--underlined ugc-reviews-link')\n",
        "        if review is None:\n",
        "            review_count = np.NaN\n",
        "        else:\n",
        "            review_count = review.text.strip()\n",
        "            \n",
        "        \n",
        "        #COUNT of PHOTOS\n",
        "        photo = html.find('a', class_ = 'ugc-ratings-link elementFont__detailsLink--underlined ugc-photos-link')\n",
        "        if photo is None:\n",
        "            photo_count = np.NaN\n",
        "        else:\n",
        "            photo_count = photo.text.strip()\n",
        "            \n",
        "        \n",
        "        #TOTAL TIME of PREPARING and COOKING\n",
        "        times = html.findAll('div', class_ = 'recipe-meta-item-body elementFont__subtitle')        \n",
        "        if len(times) == 5:\n",
        "            total_time = times[1].text.strip()\n",
        "        elif len(times) == 6:\n",
        "            total_time = times[2].text.strip()\n",
        "        elif len(times) < 5:\n",
        "            total_time = np.NaN       \n",
        "            \n",
        "\n",
        "        #INGREDIENTS\n",
        "        metadata_ing = html.find('section', \n",
        "                                 class_ = 'component recipe-ingredients recipeIngredients container interactive')\n",
        "        if metadata_ing is None:\n",
        "            continue\n",
        "            \n",
        "        ingredients = []\n",
        "        for i in metadata_ing.findAll('span', class_ = \"ingredients-item-name elementFont__body\"):\n",
        "            ingredients.append(i.text.strip())\n",
        "\n",
        "\n",
        "        # RECIPES\n",
        "        metadata_recipe = html.find('fieldset', class_ = 'instructions-section__fieldset')\n",
        "        if metadata_recipe is None:\n",
        "            continue\n",
        "\n",
        "        recipe = []\n",
        "        for i in metadata_recipe.findAll('div', class_ = \"paragraph\"):\n",
        "            recipe.append(i.text.strip())\n",
        "\n",
        "\n",
        "        # NUTRITIONS    \n",
        "        metadata_nutr = html.find('div', class_ = 'recipeNutritionSectionBlock')\n",
        "        if metadata_nutr is None:\n",
        "            continue\n",
        "            \n",
        "        nutrition = metadata_nutr.find('div', class_ = \"section-body\").text.strip()\n",
        "\n",
        "        #USERS,REVIEWS AND STARS ALTOGETHER\n",
        "        chain = []\n",
        "\n",
        "        metadata_review = html.findAll('div', class_ = 'feedback__reviewContent')\n",
        "        if len(metadata_review) == 0:\n",
        "            continue\n",
        "        \n",
        "        for i in metadata_review:\n",
        "            if len(i.text) == 0:\n",
        "                continue\n",
        "            chain.append(i.text.strip())\n",
        "\n",
        "\n",
        "        result.append([food_name, rating, review_count, photo_count, total_time, \n",
        "                       ingredients, recipe, nutrition, chain])\n",
        "        time.sleep(2)"
      ]
    },
    {
      "cell_type": "code",
      "execution_count": null,
      "metadata": {
        "id": "ReI8dNROBsiY"
      },
      "outputs": [],
      "source": [
        "def load_to_mongo(data, collection_name): # collection_name is string\n",
        "    \n",
        "    client = pymongo.MongoClient('mongodb+srv://<your username>:<your password>@cluster0.33bbx.mongodb.net/myFirstDatabase?retryWrites=true&w=majority', ssl_ca_certs=certifi.where())\n",
        "    db = client.food_metadata\n",
        "    collection = db[collection_name]\n",
        "    \n",
        "    data.reset_index(inplace=True)\n",
        "    data_dict = data.to_dict(\"records\")\n",
        "\n",
        "    collection.insert_many(data_dict)"
      ]
    },
    {
      "cell_type": "code",
      "execution_count": null,
      "metadata": {
        "id": "IQ3fYOGrBsiZ"
      },
      "outputs": [],
      "source": [
        "result = []\n",
        "recipes = []\n",
        "for i in range(10, 15):\n",
        "    start = i+1\n",
        "    html = getAndParseURL(\"https://www.allrecipes.com/recipes/737/healthy-recipes/low-cholesterol/?page=% s\" % start)\n",
        "    for sonuc in html.findAll('div', class_= 'tout__contentHeadline'):  \n",
        "        if ('article' in sonuc.a['href']) & ('gallery' in sonuc.a['href']):\n",
        "            continue\n",
        "            \n",
        "        recipes.append(\"https://www.allrecipes.com/\"+ sonuc.a['href'])\n",
        "    harvest_recipes(recipes, result)   \n",
        "    \n",
        "\n",
        "column = [\"food_name\", \"rating\", \"review_count\", \"photo_count\", \"total_time\", \n",
        "          \"ingredients\", \"recipe\", \"nutrition\", \"chain\"]\n",
        "\n",
        "dfMatch_unique = pd.DataFrame.from_records(result, columns=column)\n",
        "\n",
        "load_to_mongo(dfMatch_unique, 'lowcholesterol')"
      ]
    },
    {
      "cell_type": "code",
      "execution_count": null,
      "metadata": {
        "id": "oxRRsyx7Bsia"
      },
      "outputs": [],
      "source": [
        ""
      ]
    },
    {
      "cell_type": "code",
      "execution_count": null,
      "metadata": {
        "id": "59PF41mXBsia"
      },
      "outputs": [],
      "source": [
        ""
      ]
    },
    {
      "cell_type": "code",
      "execution_count": null,
      "metadata": {
        "id": "0Kbd925TBsib"
      },
      "outputs": [],
      "source": [
        ""
      ]
    },
    {
      "cell_type": "code",
      "execution_count": null,
      "metadata": {
        "id": "M-DZMtv9Bsic"
      },
      "outputs": [],
      "source": [
        ""
      ]
    },
    {
      "cell_type": "code",
      "execution_count": null,
      "metadata": {
        "id": "qdcgv5_vBsic"
      },
      "outputs": [],
      "source": [
        ""
      ]
    }
  ],
  "metadata": {
    "kernelspec": {
      "display_name": "Python 3",
      "language": "python",
      "name": "python3"
    },
    "language_info": {
      "codemirror_mode": {
        "name": "ipython",
        "version": 3
      },
      "file_extension": ".py",
      "mimetype": "text/x-python",
      "name": "python",
      "nbconvert_exporter": "python",
      "pygments_lexer": "ipython3",
      "version": "3.7.4"
    },
    "toc": {
      "base_numbering": 1,
      "nav_menu": {},
      "number_sections": true,
      "sideBar": true,
      "skip_h1_title": false,
      "title_cell": "Table of Contents",
      "title_sidebar": "Contents",
      "toc_cell": false,
      "toc_position": {},
      "toc_section_display": true,
      "toc_window_display": false
    },
    "colab": {
      "name": "cholesterol_scrapingultrabookicin.ipynb",
      "provenance": [],
      "collapsed_sections": []
    }
  },
  "nbformat": 4,
  "nbformat_minor": 0
}