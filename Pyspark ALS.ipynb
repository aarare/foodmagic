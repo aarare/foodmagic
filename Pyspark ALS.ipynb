{
  "cells": [
    {
      "cell_type": "code",
      "execution_count": null,
      "metadata": {
        "id": "D4bqEjmbEX5p"
      },
      "outputs": [],
      "source": [
        "import findspark\n",
        "findspark.init()\n",
        "\n",
        "import pyspark\n",
        "\n",
        "# SparkContext\n",
        "from pyspark.sql import SparkSession\n",
        "from pyspark.conf import SparkConf"
      ]
    },
    {
      "cell_type": "code",
      "execution_count": null,
      "metadata": {
        "id": "zynH8ocxEX5r",
        "outputId": "87019769-959a-4150-ec99-7dc23916db69"
      },
      "outputs": [
        {
          "data": {
            "text/plain": [
              "'2.3.1'"
            ]
          },
          "execution_count": 14,
          "metadata": {},
          "output_type": "execute_result"
        }
      ],
      "source": [
        "pyspark.__version__"
      ]
    },
    {
      "cell_type": "code",
      "execution_count": null,
      "metadata": {
        "id": "ctJnLHkgEX5s"
      },
      "outputs": [],
      "source": [
        "spark = pyspark.sql.SparkSession.builder.getOrCreate()\n"
      ]
    },
    {
      "cell_type": "code",
      "execution_count": null,
      "metadata": {
        "application/vnd.databricks.v1+cell": {
          "inputWidgets": {},
          "nuid": "6482be4c-f067-47c9-b0ac-35c938b94601",
          "showTitle": false,
          "title": ""
        },
        "id": "I3a3j5RTEX5t",
        "outputId": "e1347cbe-5efa-4342-c8b5-e1670ba32f84"
      },
      "outputs": [
        {
          "data": {
            "text/plain": [
              "DataFrame[_c0: string, food_id: string, food_name: string, userid: string, stars: string]"
            ]
          },
          "metadata": {},
          "output_type": "display_data"
        }
      ],
      "source": [
        "# File location and type\n",
        "file_location = \"rec_data_spark.csv\"\n",
        "file_type = \"csv\"\n",
        "\n",
        "# CSV options\n",
        "infer_schema = \"false\"\n",
        "first_row_is_header = \"true\"\n",
        "delimiter = \",\"\n",
        "\n",
        "# The applied options are for CSV files. For other file types, these will be ignored.\n",
        "df = spark.read.format(file_type) \\\n",
        "  .option(\"inferSchema\", infer_schema) \\\n",
        "  .option(\"header\", first_row_is_header) \\\n",
        "  .option(\"sep\", delimiter) \\\n",
        "  .load(file_location)\n",
        "\n",
        "display(df)"
      ]
    },
    {
      "cell_type": "raw",
      "metadata": {
        "application/vnd.databricks.v1+cell": {
          "inputWidgets": {},
          "nuid": "bd82bb99-1479-4d5c-be10-8c36df0f1d44",
          "showTitle": false,
          "title": ""
        },
        "id": "I2Vt4dPEEX5u"
      },
      "source": [
        "# Create a view or table\n",
        "\n",
        "temp_table_name = \"rec_data_spark_csv\"\n",
        "\n",
        "df.createOrReplaceTempView(temp_table_name)"
      ]
    },
    {
      "cell_type": "raw",
      "metadata": {
        "application/vnd.databricks.v1+cell": {
          "inputWidgets": {},
          "nuid": "db9631f6-bb4a-42ca-8a3c-0d48af932331",
          "showTitle": false,
          "title": ""
        },
        "id": "33DJQowdEX5u"
      },
      "source": [
        "permanent_table_name = \"rec_data_spark_csv\"\n",
        "\n",
        "df.write.format(\"parquet\").saveAsTable(permanent_table_name)"
      ]
    },
    {
      "cell_type": "code",
      "execution_count": null,
      "metadata": {
        "application/vnd.databricks.v1+cell": {
          "inputWidgets": {},
          "nuid": "766b908f-03c1-4820-ab78-d1c4587e75eb",
          "showTitle": false,
          "title": ""
        },
        "id": "hKhOLUNUEX5v",
        "outputId": "24581827-af0a-4076-c1a4-f1b7ebb406ed"
      },
      "outputs": [
        {
          "data": {
            "text/plain": [
              "183312"
            ]
          },
          "execution_count": 4,
          "metadata": {},
          "output_type": "execute_result"
        }
      ],
      "source": [
        "columnsToKeep = ['food_id', 'userid', 'stars']\n",
        "\n",
        "df = df.select(columnsToKeep)\n",
        "df.cache().count()"
      ]
    },
    {
      "cell_type": "code",
      "execution_count": null,
      "metadata": {
        "application/vnd.databricks.v1+cell": {
          "inputWidgets": {},
          "nuid": "fc4d49c2-9dee-4a9c-a6cd-acc11dd0a617",
          "showTitle": false,
          "title": ""
        },
        "id": "5ucbRSK6EX5v",
        "outputId": "2ab1079a-c50d-406e-c876-e4502ed71b5e"
      },
      "outputs": [
        {
          "name": "stdout",
          "output_type": "stream",
          "text": [
            "root\n",
            " |-- food_id: integer (nullable = true)\n",
            " |-- userid: integer (nullable = true)\n",
            " |-- stars: integer (nullable = true)\n",
            "\n"
          ]
        }
      ],
      "source": [
        "for column in ['food_id', 'userid', 'stars']:\n",
        "    df = df.withColumn(column, df[column].cast('int'))\n",
        "    \n",
        "df.printSchema()"
      ]
    },
    {
      "cell_type": "code",
      "execution_count": null,
      "metadata": {
        "application/vnd.databricks.v1+cell": {
          "inputWidgets": {},
          "nuid": "5310d45f-44fb-4038-92e1-1a9b3ac3518e",
          "showTitle": false,
          "title": ""
        },
        "id": "zCDHFJMFEX5w"
      },
      "outputs": [],
      "source": [
        "import numpy as np\n",
        "import pandas as pd\n",
        "\n",
        "def preview(df, n=3):\n",
        "    return pd.DataFrame(df.take(n), columns=df.columns)"
      ]
    },
    {
      "cell_type": "code",
      "execution_count": null,
      "metadata": {
        "application/vnd.databricks.v1+cell": {
          "inputWidgets": {},
          "nuid": "aeee702c-73a3-4950-b103-660f366313a7",
          "showTitle": false,
          "title": ""
        },
        "id": "2v6NKgn-EX5w",
        "outputId": "6709bfac-a6a8-41aa-dcf2-c6c80324c782"
      },
      "outputs": [
        {
          "data": {
            "text/html": [
              "<div>\n",
              "<style scoped>\n",
              "    .dataframe tbody tr th:only-of-type {\n",
              "        vertical-align: middle;\n",
              "    }\n",
              "\n",
              "    .dataframe tbody tr th {\n",
              "        vertical-align: top;\n",
              "    }\n",
              "\n",
              "    .dataframe thead th {\n",
              "        text-align: right;\n",
              "    }\n",
              "</style>\n",
              "<table border=\"1\" class=\"dataframe\">\n",
              "  <thead>\n",
              "    <tr style=\"text-align: right;\">\n",
              "      <th></th>\n",
              "      <th>food_id</th>\n",
              "      <th>userid</th>\n",
              "      <th>stars</th>\n",
              "    </tr>\n",
              "  </thead>\n",
              "  <tbody>\n",
              "    <tr>\n",
              "      <td>0</td>\n",
              "      <td>531</td>\n",
              "      <td>3753</td>\n",
              "      <td>4</td>\n",
              "    </tr>\n",
              "    <tr>\n",
              "      <td>1</td>\n",
              "      <td>531</td>\n",
              "      <td>40728</td>\n",
              "      <td>3</td>\n",
              "    </tr>\n",
              "    <tr>\n",
              "      <td>2</td>\n",
              "      <td>531</td>\n",
              "      <td>3753</td>\n",
              "      <td>4</td>\n",
              "    </tr>\n",
              "  </tbody>\n",
              "</table>\n",
              "</div>"
            ],
            "text/plain": [
              "   food_id  userid  stars\n",
              "0      531    3753      4\n",
              "1      531   40728      3\n",
              "2      531    3753      4"
            ]
          },
          "execution_count": 7,
          "metadata": {},
          "output_type": "execute_result"
        }
      ],
      "source": [
        "preview(df, n=3)"
      ]
    },
    {
      "cell_type": "code",
      "execution_count": null,
      "metadata": {
        "application/vnd.databricks.v1+cell": {
          "inputWidgets": {},
          "nuid": "2b467b8b-7d5b-4c03-8afe-31ecd0e3f8a3",
          "showTitle": false,
          "title": ""
        },
        "id": "Ps3lvaOCEX5x"
      },
      "outputs": [],
      "source": [
        "train, test = df.randomSplit([0.7, 0.3], seed=42)\n",
        "\n",
        "from pyspark.ml.recommendation import ALS, ALSModel\n",
        "from pyspark.ml.tuning import ParamGridBuilder, CrossValidator\n",
        "from pyspark.ml.evaluation import RegressionEvaluator\n",
        "\n",
        "# The ALS instance\n",
        "als = ALS(userCol='userid',\n",
        "          itemCol='food_id',\n",
        "          ratingCol='stars',\n",
        "          seed=42,\n",
        "          nonnegative=True)\n",
        "\n",
        "# The parameter grid to search\n",
        "# NOTE: the parmeter lists can be reduced to two or even \n",
        "# one item if the grid search takes too long\n",
        "als_paramgrid = (ParamGridBuilder()\n",
        "                 .addGrid(als.rank, [2, 4])\n",
        "                 .addGrid(als.maxIter, [10])\n",
        "                 .addGrid(als.regParam, [0.1])\n",
        "                 .addGrid(als.alpha, [2.0, 3.0, 4.0])\n",
        "                 .build())\n",
        "\n",
        "# The evaluation function for determining the best model\n",
        "rmse_eval = RegressionEvaluator(labelCol='stars',\n",
        "                                predictionCol='prediction', \n",
        "                                metricName='rmse')\n",
        "\n",
        "# The cross validation instance\n",
        "als_cv = CrossValidator(estimator=als,\n",
        "                        estimatorParamMaps=als_paramgrid,\n",
        "                        evaluator=rmse_eval,\n",
        "                        numFolds=5, \n",
        "                        seed=42)\n",
        "\n",
        "# Fit the models and find the best one!\n",
        "als_cv = als_cv.fit(train.dropna())"
      ]
    },
    {
      "cell_type": "code",
      "execution_count": null,
      "metadata": {
        "application/vnd.databricks.v1+cell": {
          "inputWidgets": {},
          "nuid": "b47de4a7-0101-4cc0-9f75-349d82559e50",
          "showTitle": false,
          "title": ""
        },
        "id": "atten2u8EX5x"
      },
      "outputs": [],
      "source": [
        "als_best = als_cv.bestModel\n",
        "\n",
        "print(als_best.rank)"
      ]
    },
    {
      "cell_type": "code",
      "execution_count": null,
      "metadata": {
        "id": "Fn3IQre7EX5y",
        "outputId": "a879223f-7f48-4d45-c3fa-03ee0f75a3f2"
      },
      "outputs": [
        {
          "ename": "TypeError",
          "evalue": "save() takes 2 positional arguments but 3 were given",
          "output_type": "error",
          "traceback": [
            "\u001b[1;31m---------------------------------------------------------------------------\u001b[0m",
            "\u001b[1;31mTypeError\u001b[0m                                 Traceback (most recent call last)",
            "\u001b[1;32m<ipython-input-15-fdb66bf7f814>\u001b[0m in \u001b[0;36m<module>\u001b[1;34m\u001b[0m\n\u001b[1;32m----> 1\u001b[1;33m \u001b[0mals_best\u001b[0m\u001b[1;33m.\u001b[0m\u001b[0msave\u001b[0m\u001b[1;33m(\u001b[0m\u001b[0mspark\u001b[0m\u001b[1;33m,\u001b[0m \u001b[1;34m\"als_best.model\"\u001b[0m\u001b[1;33m)\u001b[0m\u001b[1;33m\u001b[0m\u001b[1;33m\u001b[0m\u001b[0m\n\u001b[0m",
            "\u001b[1;31mTypeError\u001b[0m: save() takes 2 positional arguments but 3 were given"
          ]
        }
      ],
      "source": [
        "als_best.save(\"als_best.model\")"
      ]
    },
    {
      "cell_type": "code",
      "execution_count": null,
      "metadata": {
        "id": "e7bj28NjEX5y"
      },
      "outputs": [],
      "source": [
        "model = ALSModel.load('als_best.model')"
      ]
    },
    {
      "cell_type": "code",
      "execution_count": null,
      "metadata": {
        "application/vnd.databricks.v1+cell": {
          "inputWidgets": {},
          "nuid": "587c5f18-bd62-4e81-bbb1-80ab2ee1f024",
          "showTitle": false,
          "title": ""
        },
        "id": "nOL_xFuEEX5y",
        "outputId": "025e8687-0694-4796-bbd5-a67eab30ad49"
      },
      "outputs": [
        {
          "data": {
            "text/html": [
              "<div>\n",
              "<style scoped>\n",
              "    .dataframe tbody tr th:only-of-type {\n",
              "        vertical-align: middle;\n",
              "    }\n",
              "\n",
              "    .dataframe tbody tr th {\n",
              "        vertical-align: top;\n",
              "    }\n",
              "\n",
              "    .dataframe thead th {\n",
              "        text-align: right;\n",
              "    }\n",
              "</style>\n",
              "<table border=\"1\" class=\"dataframe\">\n",
              "  <thead>\n",
              "    <tr style=\"text-align: right;\">\n",
              "      <th></th>\n",
              "      <th>rmse_train</th>\n",
              "      <th>rmse_test</th>\n",
              "    </tr>\n",
              "  </thead>\n",
              "  <tbody>\n",
              "    <tr>\n",
              "      <td>0</td>\n",
              "      <td>0.424871</td>\n",
              "      <td>0.654038</td>\n",
              "    </tr>\n",
              "  </tbody>\n",
              "</table>\n",
              "</div>"
            ],
            "text/plain": [
              "   rmse_train  rmse_test\n",
              "0    0.424871   0.654038"
            ]
          },
          "execution_count": 13,
          "metadata": {},
          "output_type": "execute_result"
        }
      ],
      "source": [
        "als_pred_train = als_best.transform(train)\n",
        "als_pred_best = als_best.transform(test)\n",
        "\n",
        "als_rmse = pd.DataFrame([ (rmse_eval.evaluate(als_pred_train.dropna()), \n",
        "                                        rmse_eval.evaluate(als_pred_best.dropna())) ],\n",
        "                                     columns=['rmse_train', 'rmse_test'])\n",
        "\n",
        "als_rmse"
      ]
    },
    {
      "cell_type": "code",
      "execution_count": null,
      "metadata": {
        "application/vnd.databricks.v1+cell": {
          "inputWidgets": {},
          "nuid": "f9285e7f-082c-4824-86e9-7a1a705c0386",
          "showTitle": false,
          "title": ""
        },
        "id": "-G-hvQHlEX5z"
      },
      "outputs": [],
      "source": [
        "train_try = train"
      ]
    },
    {
      "cell_type": "code",
      "execution_count": null,
      "metadata": {
        "application/vnd.databricks.v1+cell": {
          "inputWidgets": {},
          "nuid": "9954eb3a-9dbe-4b45-b9f7-dafec569b98c",
          "showTitle": false,
          "title": ""
        },
        "id": "A8CI2of2EX5z",
        "outputId": "7d81611c-4e10-47a1-bea4-8e1e20227223"
      },
      "outputs": [
        {
          "name": "stdout",
          "output_type": "stream",
          "text": [
            "+-------+------+-----+\n",
            "|food_id|userid|stars|\n",
            "+-------+------+-----+\n",
            "|      0|   431|    5|\n",
            "|      0|  4348|    5|\n",
            "|      0|  5069|    5|\n",
            "|      0|  5718|    5|\n",
            "|      0|  5916|    4|\n",
            "|      0|  6692|    5|\n",
            "|      0|  6977|    5|\n",
            "|      0|  8014|    5|\n",
            "|      0| 10143|    3|\n",
            "|      0| 10832|    5|\n",
            "|      0| 12222|    4|\n",
            "|      0| 14144|    5|\n",
            "|      0| 14747|    5|\n",
            "|      0| 15023|    5|\n",
            "|      0| 16132|    5|\n",
            "|      0| 16571|    5|\n",
            "|      0| 16861|    5|\n",
            "|      0| 17116|    5|\n",
            "|      0| 17285|    5|\n",
            "|      0| 17703|    5|\n",
            "+-------+------+-----+\n",
            "only showing top 20 rows\n",
            "\n"
          ]
        }
      ],
      "source": [
        "train.show()"
      ]
    },
    {
      "cell_type": "code",
      "execution_count": null,
      "metadata": {
        "application/vnd.databricks.v1+cell": {
          "inputWidgets": {},
          "nuid": "fe9f7a73-b0e3-4573-8bf5-0fa7598c01dd",
          "showTitle": false,
          "title": ""
        },
        "id": "eXw0SB-7EX5z",
        "outputId": "e7fcdf8e-8653-4000-81ae-64d0171b697a"
      },
      "outputs": [
        {
          "data": {
            "text/plain": [
              "128360"
            ]
          },
          "execution_count": 15,
          "metadata": {},
          "output_type": "execute_result"
        }
      ],
      "source": [
        "train.count()"
      ]
    },
    {
      "cell_type": "code",
      "execution_count": null,
      "metadata": {
        "application/vnd.databricks.v1+cell": {
          "inputWidgets": {},
          "nuid": "00a47832-0164-4edf-9953-6123aa238c33",
          "showTitle": false,
          "title": ""
        },
        "id": "RnI83NV9EX5z",
        "outputId": "c2de1c2f-8710-4fd2-ee34-c695e7ad15e4"
      },
      "outputs": [
        {
          "name": "stdout",
          "output_type": "stream",
          "text": [
            "+-----------+\n",
            "|max(userid)|\n",
            "+-----------+\n",
            "|      57693|\n",
            "+-----------+\n",
            "\n"
          ]
        }
      ],
      "source": [
        "train.agg({'userid': 'max'}).show()\n"
      ]
    },
    {
      "cell_type": "code",
      "execution_count": null,
      "metadata": {
        "application/vnd.databricks.v1+cell": {
          "inputWidgets": {},
          "nuid": "b967678b-9248-448c-af1d-d999ac06f8cf",
          "showTitle": false,
          "title": ""
        },
        "id": "c2riYjG9EX50"
      },
      "outputs": [],
      "source": [
        "vals = [(1832, 57694, 5),\n",
        "        (1671,57694, 5),\n",
        "        (324,57694, 1),\n",
        "        (642,57694, 5),\n",
        "        (1785,57694, 3),]"
      ]
    },
    {
      "cell_type": "code",
      "execution_count": null,
      "metadata": {
        "application/vnd.databricks.v1+cell": {
          "inputWidgets": {},
          "nuid": "b89743fe-a7f7-46f3-9268-6ff4496994e8",
          "showTitle": false,
          "title": ""
        },
        "id": "Y8cDOiXcEX50"
      },
      "outputs": [],
      "source": [
        "newRows = spark.createDataFrame(vals,train_try.columns)"
      ]
    },
    {
      "cell_type": "code",
      "execution_count": null,
      "metadata": {
        "application/vnd.databricks.v1+cell": {
          "inputWidgets": {},
          "nuid": "8e224aa3-c339-4cc8-9f0a-a657ad2f51f2",
          "showTitle": false,
          "title": ""
        },
        "id": "wXNshJbREX50"
      },
      "outputs": [],
      "source": [
        "train_try = train_try.union(newRows)"
      ]
    },
    {
      "cell_type": "code",
      "execution_count": null,
      "metadata": {
        "application/vnd.databricks.v1+cell": {
          "inputWidgets": {},
          "nuid": "9765afd4-39e2-4f1f-861f-11ef7fe4a7d7",
          "showTitle": false,
          "title": ""
        },
        "id": "7IoTIPQKEX50"
      },
      "outputs": [],
      "source": [
        "train_try_pd = train_try.toPandas()"
      ]
    },
    {
      "cell_type": "code",
      "execution_count": null,
      "metadata": {
        "application/vnd.databricks.v1+cell": {
          "inputWidgets": {},
          "nuid": "b04496ee-977f-44c9-9549-794735d3c9a9",
          "showTitle": false,
          "title": ""
        },
        "id": "wcPPO7RgEX51"
      },
      "outputs": [],
      "source": [
        "# create the model with new user\n",
        "als = ALS(userCol='userid',\n",
        "          itemCol='food_id',\n",
        "          ratingCol='stars',\n",
        "          seed=43,\n",
        "          rank=als_best.rank,\n",
        "          maxIter=10,\n",
        "          regParam=0.1,\n",
        "          alpha=2.0,\n",
        "          nonnegative=True)\n",
        "\n",
        "als_new_user = als.fit(train_try.dropna())"
      ]
    },
    {
      "cell_type": "code",
      "execution_count": null,
      "metadata": {
        "application/vnd.databricks.v1+cell": {
          "inputWidgets": {},
          "nuid": "3c4feebf-e418-4068-8706-1b7d4d0afe16",
          "showTitle": false,
          "title": ""
        },
        "id": "OKoKbQ9WEX51"
      },
      "outputs": [],
      "source": [
        "nrecommendations = als_new_user.recommendForAllUsers(5)"
      ]
    },
    {
      "cell_type": "code",
      "execution_count": null,
      "metadata": {
        "application/vnd.databricks.v1+cell": {
          "inputWidgets": {},
          "nuid": "22624da3-d375-4d18-b24a-975d0c935ab4",
          "showTitle": false,
          "title": ""
        },
        "id": "sIbPxCgNEX51"
      },
      "outputs": [],
      "source": [
        "from pyspark.sql.functions import split, explode, col, lower, sort_array"
      ]
    },
    {
      "cell_type": "code",
      "execution_count": null,
      "metadata": {
        "application/vnd.databricks.v1+cell": {
          "inputWidgets": {},
          "nuid": "82811cc5-4ce5-482b-b227-dbdf68e7b288",
          "showTitle": false,
          "title": ""
        },
        "id": "07M7CM2fEX51",
        "outputId": "0d46b1bc-4ebd-4f3a-b969-1c58ffccbddc"
      },
      "outputs": [
        {
          "data": {
            "text/plain": [
              "DataFrame[userid: int, food_id: int, rating: float]"
            ]
          },
          "metadata": {},
          "output_type": "display_data"
        }
      ],
      "source": [
        "recommendationsDF = (nrecommendations\n",
        "  .select(\"userid\", explode(\"recommendations\")\n",
        "  .alias(\"recommendation\"))\n",
        "  .select(\"userid\", \"recommendation.*\")\n",
        ")\n",
        "\n",
        "display(recommendationsDF)"
      ]
    },
    {
      "cell_type": "code",
      "execution_count": null,
      "metadata": {
        "application/vnd.databricks.v1+cell": {
          "inputWidgets": {},
          "nuid": "6f1eecae-4bf0-4ee8-9bb3-a40881e6d465",
          "showTitle": false,
          "title": ""
        },
        "id": "IITGVCeVEX51"
      },
      "outputs": [],
      "source": [
        "collab_rec_57694 = recommendationsDF[recommendationsDF['userid'] == 57694].toPandas()"
      ]
    },
    {
      "cell_type": "code",
      "execution_count": null,
      "metadata": {
        "application/vnd.databricks.v1+cell": {
          "inputWidgets": {},
          "nuid": "ad68a88b-35fc-456f-8832-1d82512e54a1",
          "showTitle": false,
          "title": ""
        },
        "id": "nt7b8wlREX52"
      },
      "outputs": [],
      "source": [
        "rated_57694 = train_try_pd[train_try_pd['userid']==57694]['food_id'].tolist()"
      ]
    },
    {
      "cell_type": "code",
      "execution_count": null,
      "metadata": {
        "application/vnd.databricks.v1+cell": {
          "inputWidgets": {},
          "nuid": "e5961d3b-3dbc-4b81-aded-f700f9bc924d",
          "showTitle": false,
          "title": ""
        },
        "id": "lDUZUwFGEX52",
        "outputId": "d28fa610-f3e1-4642-8b7b-84042d0623e5"
      },
      "outputs": [
        {
          "data": {
            "text/plain": [
              "[1832, 1671, 324, 642, 1785]"
            ]
          },
          "execution_count": 30,
          "metadata": {},
          "output_type": "execute_result"
        }
      ],
      "source": [
        "rated_57694 #rated before"
      ]
    },
    {
      "cell_type": "code",
      "execution_count": null,
      "metadata": {
        "application/vnd.databricks.v1+cell": {
          "inputWidgets": {},
          "nuid": "2721cb6d-09ca-4d5a-963e-918b295903f8",
          "showTitle": false,
          "title": ""
        },
        "id": "4H_MsXHlEX52"
      },
      "outputs": [],
      "source": [
        "foods_rec = []\n",
        "for i in collab_rec_57694['food_id']:\n",
        "    if i not in rated_57694:\n",
        "        foods_rec.append(i)"
      ]
    },
    {
      "cell_type": "code",
      "execution_count": null,
      "metadata": {
        "application/vnd.databricks.v1+cell": {
          "inputWidgets": {},
          "nuid": "d5004200-dfb3-4161-bada-a38ad42959d7",
          "showTitle": false,
          "title": ""
        },
        "id": "X56VGOV1EX52",
        "outputId": "ad20946e-fb29-4698-ab19-3ba1496f13f9"
      },
      "outputs": [
        {
          "data": {
            "text/plain": [
              "[1580, 797, 635, 486, 898]"
            ]
          },
          "execution_count": 32,
          "metadata": {},
          "output_type": "execute_result"
        }
      ],
      "source": [
        "foods_rec #index of recommended foods"
      ]
    },
    {
      "cell_type": "code",
      "execution_count": null,
      "metadata": {
        "id": "8HRumkWGEX52"
      },
      "outputs": [],
      "source": [
        ""
      ]
    },
    {
      "cell_type": "code",
      "execution_count": null,
      "metadata": {
        "id": "UoSNhZlyEX52"
      },
      "outputs": [],
      "source": [
        "all_data = pd.read_csv(\"rec_data_all.csv\", index_col=0)"
      ]
    },
    {
      "cell_type": "code",
      "execution_count": null,
      "metadata": {
        "id": "ZrH_4G_dEX52"
      },
      "outputs": [],
      "source": [
        "all_data = all_data[['food_id', 'food_name', 'ingredients', 'recipe', 'total_time', 'nutrition']]"
      ]
    },
    {
      "cell_type": "code",
      "execution_count": null,
      "metadata": {
        "id": "eZcHKwMaEX53"
      },
      "outputs": [],
      "source": [
        "all_data.to_csv('flask_data.csv')"
      ]
    },
    {
      "cell_type": "code",
      "execution_count": null,
      "metadata": {
        "id": "bZx6_oo1EX53"
      },
      "outputs": [],
      "source": [
        "recommended_foods = all_data[all_data['food_id'].isin(foods_rec)].drop_duplicates(subset = 'food_name')"
      ]
    },
    {
      "cell_type": "code",
      "execution_count": null,
      "metadata": {
        "id": "OwNZ-aYlEX53"
      },
      "outputs": [],
      "source": [
        "pd.options.display.max_rows=9999\n",
        "#pd.options.display.max_colwidth=-1\n",
        "pd.set_option('max_colwidth', 100)"
      ]
    },
    {
      "cell_type": "code",
      "execution_count": null,
      "metadata": {
        "id": "3i1MuN42EX53",
        "outputId": "632a6374-ebf6-4219-ece0-e55d6797bb52"
      },
      "outputs": [
        {
          "data": {
            "text/html": [
              "<div>\n",
              "<style scoped>\n",
              "    .dataframe tbody tr th:only-of-type {\n",
              "        vertical-align: middle;\n",
              "    }\n",
              "\n",
              "    .dataframe tbody tr th {\n",
              "        vertical-align: top;\n",
              "    }\n",
              "\n",
              "    .dataframe thead th {\n",
              "        text-align: right;\n",
              "    }\n",
              "</style>\n",
              "<table border=\"1\" class=\"dataframe\">\n",
              "  <thead>\n",
              "    <tr style=\"text-align: right;\">\n",
              "      <th></th>\n",
              "      <th>food_id</th>\n",
              "      <th>food_name</th>\n",
              "      <th>ingredients</th>\n",
              "      <th>recipe</th>\n",
              "      <th>total_time</th>\n",
              "      <th>nutrition</th>\n",
              "    </tr>\n",
              "  </thead>\n",
              "  <tbody>\n",
              "    <tr>\n",
              "      <td>11702</td>\n",
              "      <td>635</td>\n",
              "      <td>Eskimo Cubes for Summer</td>\n",
              "      <td>2 ½ cups cubed seeded watermelon,2 ½ cups cubed cantaloupe,2 ½ cups cubed honeydew,1 cup frozen ...</td>\n",
              "      <td>Blend the watermelon, cantaloupe, honeydew, raspberries, strawberries, sugar, and lemon juice in...</td>\n",
              "      <td>4 hrs 20 mins</td>\n",
              "      <td>44 calories; protein 0.6g; carbohydrates 11g; fat 0.2g; sodium 9mg</td>\n",
              "    </tr>\n",
              "    <tr>\n",
              "      <td>59661</td>\n",
              "      <td>1580</td>\n",
              "      <td>Spicy Breakfast Sausage Patties</td>\n",
              "      <td>1 pound ground pork,1 teaspoon rubbed sage,1 teaspoon salt,1 teaspoon crushed red pepper,½ teasp...</td>\n",
              "      <td>Combine ground pork, sage, salt, crushed red pepper, marjoram, black pepper, onion powder, and t...</td>\n",
              "      <td>25 mins</td>\n",
              "      <td>107 calories; protein 8.1g; carbohydrates 0.4g; fat 7.9g; cholesterol 29.4mg; sodium 255.7mg</td>\n",
              "    </tr>\n",
              "    <tr>\n",
              "      <td>59737</td>\n",
              "      <td>486</td>\n",
              "      <td>Crispy Air-Fried Chicken</td>\n",
              "      <td>1 tablespoon ground paprika,1 teaspoon salt,1 teaspoon onion powder,1 teaspoon garlic powder,½ t...</td>\n",
              "      <td>Mix paprika, salt, onion powder, garlic powder, marjoram, sage, pepper, and nutmeg together in a...</td>\n",
              "      <td>50 mins</td>\n",
              "      <td>436 calories; protein 45.7g; carbohydrates 4g; fat 25.7g; cholesterol 127.5mg; sodium 735.4mg</td>\n",
              "    </tr>\n",
              "    <tr>\n",
              "      <td>60466</td>\n",
              "      <td>797</td>\n",
              "      <td>Grilled Chicken Under a Brick</td>\n",
              "      <td>1 (3 pound) whole chicken,1 teaspoon olive oil,1 pinch salt and freshly ground black pepper to t...</td>\n",
              "      <td>Place the chicken, breast side down, on a cutting board. Remove the backbone and 1 inch of the b...</td>\n",
              "      <td>1 hr 5 mins</td>\n",
              "      <td>229 calories; protein 20.9g; fat 15.5g; cholesterol 61.5mg; sodium 82.7mg</td>\n",
              "    </tr>\n",
              "    <tr>\n",
              "      <td>61846</td>\n",
              "      <td>898</td>\n",
              "      <td>Instant Pot® Gyros</td>\n",
              "      <td>4 pounds pork butt, cut into 2-inch cubes,3 tablespoons Greek seasoning (such as Cavender's®),1 ...</td>\n",
              "      <td>Turn on a multi-functional pressure cooker (such as Instant Pot®) and select the Saute function....</td>\n",
              "      <td>1 hr 5 mins</td>\n",
              "      <td>250 calories; protein 14.8g; carbohydrates 1.2g; fat 20.7g; cholesterol 65.2mg; sodium 1654.1mg</td>\n",
              "    </tr>\n",
              "  </tbody>\n",
              "</table>\n",
              "</div>"
            ],
            "text/plain": [
              "       food_id                        food_name  \\\n",
              "11702      635          Eskimo Cubes for Summer   \n",
              "59661     1580  Spicy Breakfast Sausage Patties   \n",
              "59737      486         Crispy Air-Fried Chicken   \n",
              "60466      797    Grilled Chicken Under a Brick   \n",
              "61846      898               Instant Pot® Gyros   \n",
              "\n",
              "                                                                                               ingredients  \\\n",
              "11702  2 ½ cups cubed seeded watermelon,2 ½ cups cubed cantaloupe,2 ½ cups cubed honeydew,1 cup frozen ...   \n",
              "59661  1 pound ground pork,1 teaspoon rubbed sage,1 teaspoon salt,1 teaspoon crushed red pepper,½ teasp...   \n",
              "59737  1 tablespoon ground paprika,1 teaspoon salt,1 teaspoon onion powder,1 teaspoon garlic powder,½ t...   \n",
              "60466  1 (3 pound) whole chicken,1 teaspoon olive oil,1 pinch salt and freshly ground black pepper to t...   \n",
              "61846  4 pounds pork butt, cut into 2-inch cubes,3 tablespoons Greek seasoning (such as Cavender's®),1 ...   \n",
              "\n",
              "                                                                                                    recipe  \\\n",
              "11702  Blend the watermelon, cantaloupe, honeydew, raspberries, strawberries, sugar, and lemon juice in...   \n",
              "59661  Combine ground pork, sage, salt, crushed red pepper, marjoram, black pepper, onion powder, and t...   \n",
              "59737  Mix paprika, salt, onion powder, garlic powder, marjoram, sage, pepper, and nutmeg together in a...   \n",
              "60466  Place the chicken, breast side down, on a cutting board. Remove the backbone and 1 inch of the b...   \n",
              "61846  Turn on a multi-functional pressure cooker (such as Instant Pot®) and select the Saute function....   \n",
              "\n",
              "          total_time  \\\n",
              "11702  4 hrs 20 mins   \n",
              "59661        25 mins   \n",
              "59737        50 mins   \n",
              "60466    1 hr 5 mins   \n",
              "61846    1 hr 5 mins   \n",
              "\n",
              "                                                                                             nutrition  \n",
              "11702                               44 calories; protein 0.6g; carbohydrates 11g; fat 0.2g; sodium 9mg  \n",
              "59661     107 calories; protein 8.1g; carbohydrates 0.4g; fat 7.9g; cholesterol 29.4mg; sodium 255.7mg  \n",
              "59737    436 calories; protein 45.7g; carbohydrates 4g; fat 25.7g; cholesterol 127.5mg; sodium 735.4mg  \n",
              "60466                        229 calories; protein 20.9g; fat 15.5g; cholesterol 61.5mg; sodium 82.7mg  \n",
              "61846  250 calories; protein 14.8g; carbohydrates 1.2g; fat 20.7g; cholesterol 65.2mg; sodium 1654.1mg  "
            ]
          },
          "execution_count": 74,
          "metadata": {},
          "output_type": "execute_result"
        }
      ],
      "source": [
        "recommended_foods"
      ]
    }
  ],
  "metadata": {
    "application/vnd.databricks.v1+notebook": {
      "dashboards": [],
      "language": "python",
      "notebookMetadata": {
        "pythonIndentUnit": 4
      },
      "notebookName": "12.04.2022_12.44",
      "notebookOrigID": 14861533335152,
      "widgets": {}
    },
    "kernelspec": {
      "display_name": "Python 3",
      "language": "python",
      "name": "python3"
    },
    "language_info": {
      "codemirror_mode": {
        "name": "ipython",
        "version": 3
      },
      "file_extension": ".py",
      "mimetype": "text/x-python",
      "name": "python",
      "nbconvert_exporter": "python",
      "pygments_lexer": "ipython3",
      "version": "3.7.4"
    },
    "toc": {
      "base_numbering": 1,
      "nav_menu": {},
      "number_sections": true,
      "sideBar": true,
      "skip_h1_title": false,
      "title_cell": "Table of Contents",
      "title_sidebar": "Contents",
      "toc_cell": false,
      "toc_position": {},
      "toc_section_display": true,
      "toc_window_display": false
    },
    "colab": {
      "name": "12.04.2022_12.44 (1).ipynb",
      "provenance": [],
      "collapsed_sections": []
    }
  },
  "nbformat": 4,
  "nbformat_minor": 0
}